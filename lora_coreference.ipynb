{
 "cells": [
  {
   "cell_type": "code",
   "execution_count": 7,
   "metadata": {},
   "outputs": [
    {
     "name": "stderr",
     "output_type": "stream",
     "text": [
      "/home/tico/anaconda3/envs/benchmark/lib/python3.10/site-packages/tqdm/auto.py:21: TqdmWarning: IProgress not found. Please update jupyter and ipywidgets. See https://ipywidgets.readthedocs.io/en/stable/user_install.html\n",
      "  from .autonotebook import tqdm as notebook_tqdm\n"
     ]
    }
   ],
   "source": [
    "import os\n",
    "import xml.etree.ElementTree as ET\n",
    "from transformers import AutoTokenizer, AutoModelForTokenClassification\n",
    "from torch.utils.data import Dataset, DataLoader\n",
    "import torch\n",
    "import xml.etree.ElementTree as ET"
   ]
  },
  {
   "cell_type": "code",
   "execution_count": 6,
   "metadata": {},
   "outputs": [
    {
     "name": "stdout",
     "output_type": "stream",
     "text": [
      "\n",
      "Coreferences:\n",
      "[('rc_0', ['televiziji', 'BBC'], ['t_80', 't_81'])]\n",
      "[('rc_1', ['Liverpoola'], ['t_7'])]\n",
      "[('rc_2', ['papeža', 'Janeza', 'Pavla', 'II.'], ['t_38', 't_39', 't_40', 't_41']), ('rc_3', ['Janeza', 'Pavla', 'II.'], ['t_39', 't_40', 't_41'])]\n",
      "[('rc_4', ['princa', 'Charlesa'], ['t_58', 't_59']), ('rc_5', ['Charlesa'], ['t_59'])]\n",
      "[('rc_6', ['Camille', 'Parker', 'Bowles'], ['t_61', 't_62', 't_63'])]\n",
      "[('rc_7', ['Angliji'], ['t_100'])]\n",
      "[('rc_8', ['dirka', 'Aintree', '2005'], ['t_2', 't_3', 't_4']), ('rc_9', ['Aintree', '2005'], ['t_3', 't_4']), ('rc_10', ['osrednje', 'dirke'], ['t_31', 't_32']), ('rc_11', ['dirka'], ['t_68']), ('rc_12', ['dirke', 'Grand', 'National'], ['t_108', 't_109', 't_110']), ('rc_13', ['dirko'], ['t_124'])]\n"
     ]
    }
   ],
   "source": [
    "def parse_tcf(xml_file):\n",
    "    # Parse the XML file\n",
    "    tree = ET.parse(xml_file)\n",
    "    root = tree.getroot()\n",
    "\n",
    "    # Handling namespaces in the XML\n",
    "    namespaces = {\n",
    "        'tc': 'http://www.dspin.de/data/textcorpus'\n",
    "    }\n",
    "\n",
    "    # Extract tokens\n",
    "    tokens = {token.get('ID'): token.text for token in root.findall('.//tc:tokens/tc:token', namespaces)}\n",
    "\n",
    "    # Extract coreference information\n",
    "    coreferences = []\n",
    "    for entity in root.findall('.//tc:references/tc:entity', namespaces):\n",
    "        # Each entity may contain multiple references\n",
    "        entity_mentions = []\n",
    "        for reference in entity.findall('.//tc:reference', namespaces):\n",
    "            ref_id = reference.get('ID')\n",
    "            token_ids = reference.get('tokenIDs').split()\n",
    "            mention_text = [tokens[token_id] for token_id in token_ids]\n",
    "            entity_mentions.append((ref_id, mention_text, token_ids))\n",
    "        coreferences.append(entity_mentions)\n",
    "\n",
    "    return tokens, coreferences\n",
    "\n",
    "# Usage\n",
    "tokens, coreferences = parse_tcf('/home/tico/Desktop/master_classes/NLP/coref149_v1_b/coref149_v1/ssj4.15.tcf')\n",
    "\n",
    "\n",
    "print(\"\\nCoreferences:\")\n",
    "for entity in coreferences:\n",
    "    print(entity)"
   ]
  },
  {
   "cell_type": "code",
   "execution_count": 16,
   "metadata": {},
   "outputs": [],
   "source": [
    "def parse_tcf(xml_file):\n",
    "    tree = ET.parse(xml_file)\n",
    "    root = tree.getroot()\n",
    "    namespaces = {'tc': 'http://www.dspin.de/data/textcorpus'}\n",
    "\n",
    "    tokens = {token.get('ID'): token.text for token in root.findall('.//tc:tokens/tc:token', namespaces)}\n",
    "    coreferences = []\n",
    "    unique_coref_ids = set()  # Set to track unique coreference IDs\n",
    "\n",
    "    for entity in root.findall('.//tc:references/tc:entity', namespaces):\n",
    "        entity_mentions = []\n",
    "        for reference in entity.findall('.//tc:reference', namespaces):\n",
    "            ref_id = reference.get('ID')\n",
    "            token_ids = reference.get('tokenIDs').split()\n",
    "            entity_mentions.append((ref_id, token_ids))\n",
    "            unique_coref_ids.add(ref_id)  # Add coreference ID to the set\n",
    "        coreferences.append(entity_mentions)\n",
    "\n",
    "    return tokens, coreferences, unique_coref_ids\n",
    "def preprocess_data(tokens, coreferences,tokenizer):\n",
    "    text = ' '.join(tokens.values())\n",
    "    encoded = tokenizer(text, return_tensors='pt', padding='max_length', truncation=True, max_length=512)\n",
    "    # Prepare labels based on coreference data, initially set all labels to -1 (ignore)\n",
    "    labels = [-1] * len(encoded['input_ids'][0])\n",
    "    for coref in coreferences:\n",
    "        for ref_id, token_ids in coref:\n",
    "            for token_id in token_ids:\n",
    "                if token_id in tokens:\n",
    "                    token_index = list(tokens.keys()).index(token_id)\n",
    "                    labels[token_index] = ref_id\n",
    "    encoded['labels'] = labels\n",
    "    return encoded\n",
    "class CorefDataset(Dataset):\n",
    "    def __init__(self, encodings):\n",
    "        self.encodings = encodings\n",
    "    \n",
    "    def __getitem__(self, idx):\n",
    "        return {key: val[idx] for key, val in self.encodings.items()}\n",
    "    \n",
    "    def __len__(self):\n",
    "        return len(self.encodings['input_ids'])\n",
    "def load_dataset(directory,tokenizer):\n",
    "    all_unique_coref_ids = set()\n",
    "    dataset_encodings = {'input_ids': [], 'attention_mask': [], 'token_type_ids': [], 'labels': []}\n",
    "    for filename in os.listdir(directory):\n",
    "        if filename.endswith('.tcf'):\n",
    "            tokens, coreferences, file_unique_ids  = parse_tcf(os.path.join(directory, filename))\n",
    "            encodings = preprocess_data(tokens, coreferences,tokenizer)\n",
    "            all_unique_coref_ids.update(file_unique_ids)\n",
    "            for key in dataset_encodings:\n",
    "                dataset_encodings[key].append(encodings[key][0])\n",
    "    number_of_unique_coref_ids = len(all_unique_coref_ids)\n",
    "    return dataset_encodings,number_of_unique_coref_ids"
   ]
  },
  {
   "cell_type": "code",
   "execution_count": 18,
   "metadata": {},
   "outputs": [
    {
     "ename": "TypeError",
     "evalue": "tuple indices must be integers or slices, not str",
     "output_type": "error",
     "traceback": [
      "\u001b[0;31m---------------------------------------------------------------------------\u001b[0m",
      "\u001b[0;31mTypeError\u001b[0m                                 Traceback (most recent call last)",
      "Cell \u001b[0;32mIn[18], line 4\u001b[0m\n\u001b[1;32m      2\u001b[0m dataset_encodings \u001b[38;5;241m=\u001b[39m load_dataset(\u001b[38;5;124m'\u001b[39m\u001b[38;5;124m/home/tico/Desktop/master_classes/NLP/coref149_v1_b/coref149_v1\u001b[39m\u001b[38;5;124m'\u001b[39m,tokenizer)\n\u001b[1;32m      3\u001b[0m dataset \u001b[38;5;241m=\u001b[39m CorefDataset(dataset_encodings)\n\u001b[0;32m----> 4\u001b[0m dataloader \u001b[38;5;241m=\u001b[39m \u001b[43mDataLoader\u001b[49m\u001b[43m(\u001b[49m\u001b[43mdataset\u001b[49m\u001b[43m,\u001b[49m\u001b[43m \u001b[49m\u001b[43mbatch_size\u001b[49m\u001b[38;5;241;43m=\u001b[39;49m\u001b[38;5;241;43m8\u001b[39;49m\u001b[43m,\u001b[49m\u001b[43m \u001b[49m\u001b[43mshuffle\u001b[49m\u001b[38;5;241;43m=\u001b[39;49m\u001b[38;5;28;43;01mTrue\u001b[39;49;00m\u001b[43m)\u001b[49m\n",
      "File \u001b[0;32m~/anaconda3/envs/benchmark/lib/python3.10/site-packages/torch/utils/data/dataloader.py:350\u001b[0m, in \u001b[0;36mDataLoader.__init__\u001b[0;34m(self, dataset, batch_size, shuffle, sampler, batch_sampler, num_workers, collate_fn, pin_memory, drop_last, timeout, worker_init_fn, multiprocessing_context, generator, prefetch_factor, persistent_workers, pin_memory_device)\u001b[0m\n\u001b[1;32m    348\u001b[0m \u001b[38;5;28;01melse\u001b[39;00m:  \u001b[38;5;66;03m# map-style\u001b[39;00m\n\u001b[1;32m    349\u001b[0m     \u001b[38;5;28;01mif\u001b[39;00m shuffle:\n\u001b[0;32m--> 350\u001b[0m         sampler \u001b[38;5;241m=\u001b[39m \u001b[43mRandomSampler\u001b[49m\u001b[43m(\u001b[49m\u001b[43mdataset\u001b[49m\u001b[43m,\u001b[49m\u001b[43m \u001b[49m\u001b[43mgenerator\u001b[49m\u001b[38;5;241;43m=\u001b[39;49m\u001b[43mgenerator\u001b[49m\u001b[43m)\u001b[49m  \u001b[38;5;66;03m# type: ignore[arg-type]\u001b[39;00m\n\u001b[1;32m    351\u001b[0m     \u001b[38;5;28;01melse\u001b[39;00m:\n\u001b[1;32m    352\u001b[0m         sampler \u001b[38;5;241m=\u001b[39m SequentialSampler(dataset)  \u001b[38;5;66;03m# type: ignore[arg-type]\u001b[39;00m\n",
      "File \u001b[0;32m~/anaconda3/envs/benchmark/lib/python3.10/site-packages/torch/utils/data/sampler.py:142\u001b[0m, in \u001b[0;36mRandomSampler.__init__\u001b[0;34m(self, data_source, replacement, num_samples, generator)\u001b[0m\n\u001b[1;32m    139\u001b[0m \u001b[38;5;28;01mif\u001b[39;00m \u001b[38;5;129;01mnot\u001b[39;00m \u001b[38;5;28misinstance\u001b[39m(\u001b[38;5;28mself\u001b[39m\u001b[38;5;241m.\u001b[39mreplacement, \u001b[38;5;28mbool\u001b[39m):\n\u001b[1;32m    140\u001b[0m     \u001b[38;5;28;01mraise\u001b[39;00m \u001b[38;5;167;01mTypeError\u001b[39;00m(\u001b[38;5;124mf\u001b[39m\u001b[38;5;124m\"\u001b[39m\u001b[38;5;124mreplacement should be a boolean value, but got replacement=\u001b[39m\u001b[38;5;132;01m{\u001b[39;00m\u001b[38;5;28mself\u001b[39m\u001b[38;5;241m.\u001b[39mreplacement\u001b[38;5;132;01m}\u001b[39;00m\u001b[38;5;124m\"\u001b[39m)\n\u001b[0;32m--> 142\u001b[0m \u001b[38;5;28;01mif\u001b[39;00m \u001b[38;5;129;01mnot\u001b[39;00m \u001b[38;5;28misinstance\u001b[39m(\u001b[38;5;28;43mself\u001b[39;49m\u001b[38;5;241;43m.\u001b[39;49m\u001b[43mnum_samples\u001b[49m, \u001b[38;5;28mint\u001b[39m) \u001b[38;5;129;01mor\u001b[39;00m \u001b[38;5;28mself\u001b[39m\u001b[38;5;241m.\u001b[39mnum_samples \u001b[38;5;241m<\u001b[39m\u001b[38;5;241m=\u001b[39m \u001b[38;5;241m0\u001b[39m:\n\u001b[1;32m    143\u001b[0m     \u001b[38;5;28;01mraise\u001b[39;00m \u001b[38;5;167;01mValueError\u001b[39;00m(\u001b[38;5;124mf\u001b[39m\u001b[38;5;124m\"\u001b[39m\u001b[38;5;124mnum_samples should be a positive integer value, but got num_samples=\u001b[39m\u001b[38;5;132;01m{\u001b[39;00m\u001b[38;5;28mself\u001b[39m\u001b[38;5;241m.\u001b[39mnum_samples\u001b[38;5;132;01m}\u001b[39;00m\u001b[38;5;124m\"\u001b[39m)\n",
      "File \u001b[0;32m~/anaconda3/envs/benchmark/lib/python3.10/site-packages/torch/utils/data/sampler.py:149\u001b[0m, in \u001b[0;36mRandomSampler.num_samples\u001b[0;34m(self)\u001b[0m\n\u001b[1;32m    145\u001b[0m \u001b[38;5;129m@property\u001b[39m\n\u001b[1;32m    146\u001b[0m \u001b[38;5;28;01mdef\u001b[39;00m \u001b[38;5;21mnum_samples\u001b[39m(\u001b[38;5;28mself\u001b[39m) \u001b[38;5;241m-\u001b[39m\u001b[38;5;241m>\u001b[39m \u001b[38;5;28mint\u001b[39m:\n\u001b[1;32m    147\u001b[0m     \u001b[38;5;66;03m# dataset size might change at runtime\u001b[39;00m\n\u001b[1;32m    148\u001b[0m     \u001b[38;5;28;01mif\u001b[39;00m \u001b[38;5;28mself\u001b[39m\u001b[38;5;241m.\u001b[39m_num_samples \u001b[38;5;129;01mis\u001b[39;00m \u001b[38;5;28;01mNone\u001b[39;00m:\n\u001b[0;32m--> 149\u001b[0m         \u001b[38;5;28;01mreturn\u001b[39;00m \u001b[38;5;28;43mlen\u001b[39;49m\u001b[43m(\u001b[49m\u001b[38;5;28;43mself\u001b[39;49m\u001b[38;5;241;43m.\u001b[39;49m\u001b[43mdata_source\u001b[49m\u001b[43m)\u001b[49m\n\u001b[1;32m    150\u001b[0m     \u001b[38;5;28;01mreturn\u001b[39;00m \u001b[38;5;28mself\u001b[39m\u001b[38;5;241m.\u001b[39m_num_samples\n",
      "Cell \u001b[0;32mIn[16], line 41\u001b[0m, in \u001b[0;36mCorefDataset.__len__\u001b[0;34m(self)\u001b[0m\n\u001b[1;32m     40\u001b[0m \u001b[38;5;28;01mdef\u001b[39;00m \u001b[38;5;21m__len__\u001b[39m(\u001b[38;5;28mself\u001b[39m):\n\u001b[0;32m---> 41\u001b[0m     \u001b[38;5;28;01mreturn\u001b[39;00m \u001b[38;5;28mlen\u001b[39m(\u001b[38;5;28;43mself\u001b[39;49m\u001b[38;5;241;43m.\u001b[39;49m\u001b[43mencodings\u001b[49m\u001b[43m[\u001b[49m\u001b[38;5;124;43m'\u001b[39;49m\u001b[38;5;124;43minput_ids\u001b[39;49m\u001b[38;5;124;43m'\u001b[39;49m\u001b[43m]\u001b[49m)\n",
      "\u001b[0;31mTypeError\u001b[0m: tuple indices must be integers or slices, not str"
     ]
    }
   ],
   "source": [
    "tokenizer = AutoTokenizer.from_pretrained('bert-base-cased')\n",
    "dataset_encodings = load_dataset('/home/tico/Desktop/master_classes/NLP/coref149_v1_b/coref149_v1',tokenizer)\n",
    "dataset = CorefDataset(dataset_encodings)\n",
    "dataloader = DataLoader(dataset, batch_size=8, shuffle=True)"
   ]
  },
  {
   "cell_type": "code",
   "execution_count": null,
   "metadata": {},
   "outputs": [],
   "source": [
    "# Example usage\n",
    "all_unique_coref_ids = set()\n",
    "for filename in os.listdir('path_to_tcf_directory'):\n",
    "    if filename.endswith('.tcf'):\n",
    "        _, _, file_unique_ids = parse_tcf(os.path.join('path_to_tcf_directory', filename))\n",
    "        all_unique_coref_ids.update(file_unique_ids)\n",
    "\n",
    "number_of_unique_coref_ids = len(all_unique_coref_ids)"
   ]
  },
  {
   "cell_type": "code",
   "execution_count": null,
   "metadata": {},
   "outputs": [],
   "source": [
    "\n",
    "dataset_encodings = load_dataset('path_to_tcf_directory')\n",
    "dataset = CorefDataset(dataset_encodings)\n",
    "dataloader = DataLoader(dataset, batch_size=8, shuffle=True)"
   ]
  }
 ],
 "metadata": {
  "kernelspec": {
   "display_name": "benchmark",
   "language": "python",
   "name": "python3"
  },
  "language_info": {
   "codemirror_mode": {
    "name": "ipython",
    "version": 3
   },
   "file_extension": ".py",
   "mimetype": "text/x-python",
   "name": "python",
   "nbconvert_exporter": "python",
   "pygments_lexer": "ipython3",
   "version": "3.10.14"
  }
 },
 "nbformat": 4,
 "nbformat_minor": 2
}
