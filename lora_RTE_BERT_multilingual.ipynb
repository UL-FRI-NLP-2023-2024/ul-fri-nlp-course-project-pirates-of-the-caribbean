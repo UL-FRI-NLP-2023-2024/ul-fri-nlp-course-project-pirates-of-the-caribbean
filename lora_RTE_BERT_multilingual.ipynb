{
 "cells": [
  {
   "cell_type": "code",
   "execution_count": 1,
   "metadata": {},
   "outputs": [
    {
     "name": "stderr",
     "output_type": "stream",
     "text": [
      "/home/tico/anaconda3/envs/benchmark/lib/python3.10/site-packages/tqdm/auto.py:21: TqdmWarning: IProgress not found. Please update jupyter and ipywidgets. See https://ipywidgets.readthedocs.io/en/stable/user_install.html\n",
      "  from .autonotebook import tqdm as notebook_tqdm\n",
      "Failed to detect the name of this notebook, you can set it manually with the WANDB_NOTEBOOK_NAME environment variable to enable code saving.\n",
      "\u001b[34m\u001b[1mwandb\u001b[0m: Currently logged in as: \u001b[33mgonzalezmanfred309\u001b[0m (\u001b[33mgatonegro\u001b[0m). Use \u001b[1m`wandb login --relogin`\u001b[0m to force relogin\n"
     ]
    },
    {
     "data": {
      "text/plain": [
       "True"
      ]
     },
     "execution_count": 1,
     "metadata": {},
     "output_type": "execute_result"
    }
   ],
   "source": [
    "import torch\n",
    "import time\n",
    "import pandas as pd\n",
    "import numpy as np  \n",
    "import os\n",
    "from transformers import (\n",
    "    AutoModelForSequenceClassification,\n",
    "    AutoTokenizer,\n",
    "    DataCollatorWithPadding,\n",
    "    Trainer,\n",
    "    TrainingArguments,\n",
    "    EarlyStoppingCallback\n",
    ")\n",
    "from sklearn.model_selection import train_test_split\n",
    "from datasets import Dataset\n",
    "from datasets import load_dataset, load_metric\n",
    "from peft import LoraConfig, get_peft_model, prepare_model_for_kbit_training, TaskType, PrefixTuningConfig, IA3Config\n",
    "from sklearn.metrics import f1_score, precision_score, recall_score, accuracy_score\n",
    "import wandb\n",
    "WANDB_API_KEY = os.environ.get(\"WANDB_API_KEY\", None)\n",
    "wandb.login(key=WANDB_API_KEY)"
   ]
  },
  {
   "cell_type": "code",
   "execution_count": 6,
   "metadata": {},
   "outputs": [],
   "source": [
    "model_name = \"bert-base-multilingual-cased\"\n",
    "# Load the dataset\n",
    "dataset = load_dataset('csv', data_files={\n",
    "    'train': 'SuperGLUE-HumanT/csv/RTE/train.csv',\n",
    "    'validation': 'SuperGLUE-HumanT/csv/RTE/val.csv'\n",
    "})\n",
    "\n",
    "# Tokenization\n",
    "tokenizer = AutoTokenizer.from_pretrained(model_name)\n",
    "def preprocess_function(examples):\n",
    "    return tokenizer(examples['premise'], examples['hypothesis'], truncation=True, padding='max_length', max_length=512)\n",
    "dataset = dataset.map(preprocess_function, batched=True)\n",
    "\n",
    "# Here you split the validation set into validation and test sets\n",
    "test_train_split = dataset['validation'].train_test_split(test_size=0.5)\n",
    "# Now you need to add these new sets back into your dataset\n",
    "dataset['validation'] = test_train_split['train']\n",
    "dataset['test'] = test_train_split['test']\n",
    "\n",
    "# Now continue with label mapping\n",
    "def label_mapping(example):\n",
    "    label_dict = {'not_entailment': 0, 'entailment': 1}\n",
    "    example['labels'] = label_dict[example['label']]\n",
    "    return example\n",
    "dataset = dataset.map(label_mapping)\n",
    "\n",
    "# Set format for PyTorch\n",
    "dataset.set_format(type='torch', columns=['input_ids', 'attention_mask', 'labels'])\n",
    "\n"
   ]
  },
  {
   "cell_type": "code",
   "execution_count": 7,
   "metadata": {},
   "outputs": [],
   "source": [
    "def print_trainable_parameters(model):\n",
    "    \"\"\"\n",
    "    Prints the number of trainable parameters in the model.\n",
    "    \"\"\"\n",
    "    trainable_params = 0\n",
    "    all_param = 0\n",
    "    for _, param in model.named_parameters():\n",
    "        all_param += param.numel()\n",
    "        if param.requires_grad:\n",
    "            trainable_params += param.numel()\n",
    "    print(\n",
    "        f\"trainable params: {trainable_params} || all params: {all_param} || trainable%: {100 * trainable_params / all_param}\"\n",
    "    )\n",
    "\n",
    "def compute_metrics(eval_pred):\n",
    "    logits, labels = eval_pred\n",
    "    predictions = np.argmax(logits, axis=-1)\n",
    "    f1 = f1_score(labels, predictions, average='weighted')  # Modify as needed\n",
    "    accuracy = accuracy_score(labels, predictions)\n",
    "    return {\n",
    "        'f1': f1,\n",
    "        'accuracy': accuracy\n",
    "    }"
   ]
  },
  {
   "cell_type": "code",
   "execution_count": 8,
   "metadata": {},
   "outputs": [
    {
     "name": "stderr",
     "output_type": "stream",
     "text": [
      "Some weights of CamembertForSequenceClassification were not initialized from the model checkpoint at EMBEDDIA/sloberta and are newly initialized: ['classifier.dense.bias', 'classifier.dense.weight', 'classifier.out_proj.bias', 'classifier.out_proj.weight']\n",
      "You should probably TRAIN this model on a down-stream task to be able to use it for predictions and inference.\n"
     ]
    },
    {
     "name": "stdout",
     "output_type": "stream",
     "text": [
      "trainable params: 2951426 || all params: 113574916 || trainable%: 2.5986600773713096\n"
     ]
    },
    {
     "name": "stderr",
     "output_type": "stream",
     "text": [
      "  6%|▌         | 7/120 [00:02<00:43,  2.59it/s]\n",
      "  7%|▋         | 8/120 [00:02<00:43,  2.59it/s]"
     ]
    },
    {
     "name": "stdout",
     "output_type": "stream",
     "text": [
      "{'eval_loss': 0.6896523833274841, 'eval_f1': 0.4155844155844156, 'eval_accuracy': 0.5714285714285714, 'eval_runtime': 0.0755, 'eval_samples_per_second': 185.337, 'eval_steps_per_second': 13.238, 'epoch': 1.0}\n"
     ]
    },
    {
     "name": "stderr",
     "output_type": "stream",
     "text": [
      " 12%|█▎        | 15/120 [00:06<00:41,  2.52it/s]\n",
      " 13%|█▎        | 16/120 [00:06<00:41,  2.52it/s]"
     ]
    },
    {
     "name": "stdout",
     "output_type": "stream",
     "text": [
      "{'eval_loss': 0.7079315781593323, 'eval_f1': 0.2571428571428571, 'eval_accuracy': 0.42857142857142855, 'eval_runtime': 0.0772, 'eval_samples_per_second': 181.329, 'eval_steps_per_second': 12.952, 'epoch': 2.0}\n"
     ]
    },
    {
     "name": "stderr",
     "output_type": "stream",
     "text": [
      " 19%|█▉        | 23/120 [00:09<00:38,  2.50it/s]\n",
      " 20%|██        | 24/120 [00:09<00:38,  2.50it/s]"
     ]
    },
    {
     "name": "stdout",
     "output_type": "stream",
     "text": [
      "{'eval_loss': 0.6853160262107849, 'eval_f1': 0.4155844155844156, 'eval_accuracy': 0.5714285714285714, 'eval_runtime': 0.0746, 'eval_samples_per_second': 187.777, 'eval_steps_per_second': 13.413, 'epoch': 3.0}\n"
     ]
    },
    {
     "name": "stderr",
     "output_type": "stream",
     "text": [
      " 26%|██▌       | 31/120 [00:12<00:34,  2.57it/s]\n",
      " 27%|██▋       | 32/120 [00:13<00:34,  2.57it/s]"
     ]
    },
    {
     "name": "stdout",
     "output_type": "stream",
     "text": [
      "{'eval_loss': 0.6859315037727356, 'eval_f1': 0.4155844155844156, 'eval_accuracy': 0.5714285714285714, 'eval_runtime': 0.0747, 'eval_samples_per_second': 187.485, 'eval_steps_per_second': 13.392, 'epoch': 4.0}\n"
     ]
    },
    {
     "name": "stderr",
     "output_type": "stream",
     "text": [
      " 32%|███▎      | 39/120 [00:16<00:31,  2.57it/s]\n",
      " 33%|███▎      | 40/120 [00:16<00:31,  2.57it/s]"
     ]
    },
    {
     "name": "stdout",
     "output_type": "stream",
     "text": [
      "{'eval_loss': 0.6905068755149841, 'eval_f1': 0.38095238095238093, 'eval_accuracy': 0.5, 'eval_runtime': 0.0756, 'eval_samples_per_second': 185.192, 'eval_steps_per_second': 13.228, 'epoch': 5.0}\n"
     ]
    },
    {
     "name": "stderr",
     "output_type": "stream",
     "text": [
      " 39%|███▉      | 47/120 [00:19<00:28,  2.57it/s]\n",
      " 40%|████      | 48/120 [00:19<00:28,  2.57it/s]"
     ]
    },
    {
     "name": "stdout",
     "output_type": "stream",
     "text": [
      "{'eval_loss': 0.6925612092018127, 'eval_f1': 0.45614035087719296, 'eval_accuracy': 0.5, 'eval_runtime': 0.0795, 'eval_samples_per_second': 176.044, 'eval_steps_per_second': 12.575, 'epoch': 6.0}\n"
     ]
    },
    {
     "name": "stderr",
     "output_type": "stream",
     "text": [
      " 46%|████▌     | 55/120 [00:22<00:25,  2.55it/s]\n",
      " 47%|████▋     | 56/120 [00:22<00:25,  2.55it/s]"
     ]
    },
    {
     "name": "stdout",
     "output_type": "stream",
     "text": [
      "{'eval_loss': 0.6865971684455872, 'eval_f1': 0.4155844155844156, 'eval_accuracy': 0.5714285714285714, 'eval_runtime': 0.0763, 'eval_samples_per_second': 183.551, 'eval_steps_per_second': 13.111, 'epoch': 7.0}\n"
     ]
    },
    {
     "name": "stderr",
     "output_type": "stream",
     "text": [
      " 52%|█████▎    | 63/120 [00:25<00:22,  2.56it/s]\n",
      " 53%|█████▎    | 64/120 [00:26<00:21,  2.56it/s]"
     ]
    },
    {
     "name": "stdout",
     "output_type": "stream",
     "text": [
      "{'eval_loss': 0.6896091103553772, 'eval_f1': 0.4155844155844156, 'eval_accuracy': 0.5714285714285714, 'eval_runtime': 0.0752, 'eval_samples_per_second': 186.161, 'eval_steps_per_second': 13.297, 'epoch': 8.0}\n"
     ]
    },
    {
     "name": "stderr",
     "output_type": "stream",
     "text": [
      " 59%|█████▉    | 71/120 [00:29<00:19,  2.56it/s]\n",
      " 60%|██████    | 72/120 [00:29<00:18,  2.56it/s]"
     ]
    },
    {
     "name": "stdout",
     "output_type": "stream",
     "text": [
      "{'eval_loss': 0.692135214805603, 'eval_f1': 0.4155844155844156, 'eval_accuracy': 0.5714285714285714, 'eval_runtime': 0.0754, 'eval_samples_per_second': 185.675, 'eval_steps_per_second': 13.262, 'epoch': 9.0}\n"
     ]
    },
    {
     "name": "stderr",
     "output_type": "stream",
     "text": [
      " 66%|██████▌   | 79/120 [00:32<00:15,  2.56it/s]\n",
      " 67%|██████▋   | 80/120 [00:32<00:15,  2.56it/s]"
     ]
    },
    {
     "name": "stdout",
     "output_type": "stream",
     "text": [
      "{'eval_loss': 0.6996821761131287, 'eval_f1': 0.38095238095238093, 'eval_accuracy': 0.5, 'eval_runtime': 0.0793, 'eval_samples_per_second': 176.535, 'eval_steps_per_second': 12.61, 'epoch': 10.0}\n"
     ]
    },
    {
     "name": "stderr",
     "output_type": "stream",
     "text": [
      " 72%|███████▎  | 87/120 [00:35<00:13,  2.51it/s]\n",
      " 73%|███████▎  | 88/120 [00:35<00:12,  2.51it/s]"
     ]
    },
    {
     "name": "stdout",
     "output_type": "stream",
     "text": [
      "{'eval_loss': 0.7013550400733948, 'eval_f1': 0.4155844155844156, 'eval_accuracy': 0.5714285714285714, 'eval_runtime': 0.0784, 'eval_samples_per_second': 178.564, 'eval_steps_per_second': 12.755, 'epoch': 11.0}\n"
     ]
    },
    {
     "name": "stderr",
     "output_type": "stream",
     "text": [
      " 79%|███████▉  | 95/120 [00:38<00:09,  2.55it/s]\n",
      " 80%|████████  | 96/120 [00:39<00:09,  2.55it/s]"
     ]
    },
    {
     "name": "stdout",
     "output_type": "stream",
     "text": [
      "{'eval_loss': 0.7061598896980286, 'eval_f1': 0.4155844155844156, 'eval_accuracy': 0.5714285714285714, 'eval_runtime': 0.0767, 'eval_samples_per_second': 182.426, 'eval_steps_per_second': 13.03, 'epoch': 12.0}\n"
     ]
    },
    {
     "name": "stderr",
     "output_type": "stream",
     "text": [
      " 80%|████████  | 96/120 [00:39<00:09,  2.43it/s]\n"
     ]
    },
    {
     "name": "stdout",
     "output_type": "stream",
     "text": [
      "{'train_runtime': 39.5233, 'train_samples_per_second': 88.049, 'train_steps_per_second': 3.036, 'train_loss': 0.6751779715220133, 'epoch': 12.0}\n"
     ]
    },
    {
     "name": "stderr",
     "output_type": "stream",
     "text": [
      "100%|██████████| 1/1 [00:00<00:00, 507.23it/s]\n"
     ]
    },
    {
     "name": "stdout",
     "output_type": "stream",
     "text": [
      "model: EMBEDDIA/sloberta, Dataset: Sentinews, Test Metrics: {'eval_loss': 0.7130671143531799, 'eval_f1': 0.3, 'eval_accuracy': 0.3333333333333333, 'eval_runtime': 0.0841, 'eval_samples_per_second': 178.432, 'eval_steps_per_second': 11.895, 'epoch': 12.0}\n"
     ]
    }
   ],
   "source": [
    "def fine_tune_model(model_name, model, training_args, dataset):\n",
    "\n",
    "    trainer = Trainer(\n",
    "        model=model,\n",
    "        args=training_args,\n",
    "        train_dataset=dataset['train'],\n",
    "        eval_dataset=dataset['validation'],\n",
    "        compute_metrics=compute_metrics,\n",
    "        callbacks=[EarlyStoppingCallback(early_stopping_patience=6, early_stopping_threshold=0.01)]\n",
    "    )\n",
    "\n",
    "    start = time.time()\n",
    "    trainer.train()\n",
    "    elapsed_training = time.time() - start\n",
    "\n",
    "    metrics = trainer.evaluate(dataset['test'])\n",
    "\n",
    "    print(f\"model: {model_name}, Dataset: Sentinews, Test Metrics: {metrics}\")\n",
    "\n",
    "    model.save_pretrained(f\"{model_name}_RTE_FINAL\")\n",
    "\n",
    "    return model, metrics, elapsed_training\n",
    "def run_lora_sloberta(dataset):\n",
    "    task_type = TaskType.SEQ_CLS  # You might need a different TaskType depending on your exact use case\n",
    "\n",
    "    training_args = TrainingArguments(\n",
    "        output_dir=f\"{model_name}-RTE\",  # Change as needed\n",
    "        learning_rate=1e-4,\n",
    "        per_device_train_batch_size=32,  # Adjust based on your GPU memory\n",
    "        per_device_eval_batch_size=32,\n",
    "        num_train_epochs=15,\n",
    "        weight_decay=0.1,\n",
    "        evaluation_strategy=\"epoch\",\n",
    "        save_strategy=\"epoch\",\n",
    "        load_best_model_at_end=True,\n",
    "        metric_for_best_model=\"f1\",\n",
    "        greater_is_better=True\n",
    "    )\n",
    "\n",
    "    model = AutoModelForSequenceClassification.from_pretrained(model_name, num_labels=2)  # Adjust num_labels as needed\n",
    "    model = prepare_model_for_kbit_training(model, task_type)\n",
    "\n",
    "    target_modules = (\n",
    "        [\n",
    "            \"bert.encoder.layer.\" + str(i) + \".attention.self.query\"\n",
    "            for i in range(model.config.num_hidden_layers)\n",
    "        ]\n",
    "        + [\n",
    "            \"bert.encoder.layer.\" + str(i) + \".attention.self.key\"\n",
    "            for i in range(model.config.num_hidden_layers)\n",
    "        ]\n",
    "        + [\n",
    "            \"bert.encoder.layer.\" + str(i) + \".attention.self.value\"\n",
    "            for i in range(model.config.num_hidden_layers)\n",
    "        ]\n",
    "        + [\n",
    "            \"bert.encoder.layer.\" + str(i) + \".attention.output.dense\"\n",
    "            for i in range(model.config.num_hidden_layers)\n",
    "        ]\n",
    "    )\n",
    "\n",
    "    \n",
    "    lora_config = LoraConfig(\n",
    "        r=16,\n",
    "        lora_alpha=32,\n",
    "        lora_dropout=0.05,\n",
    "        task_type=task_type,\n",
    "        bias=\"none\",\n",
    "        target_modules=target_modules,\n",
    "    )\n",
    "\n",
    "    model = get_peft_model(model, lora_config)\n",
    "    print_trainable_parameters(model)\n",
    "    \n",
    "    _, metrics, elapsed_training = fine_tune_model(\n",
    "        model_name, model, training_args, dataset\n",
    "    )\n",
    "\n",
    "    current_time = time.strftime(\"%Y-%m-%d-%H-%M-%S\")\n",
    "    with open(\"results.csv\", \"a\") as f:\n",
    "        f.write(\n",
    "            f\"{current_time},{model_name},Sentinews,{metrics},{metrics},{elapsed_training}\\n\"\n",
    "        )\n",
    "\n",
    "# Assuming 'documents' is your dataset\n",
    "# You'll need to convert 'documents' into a format compatible with Hugging Face datasets\n",
    "run_lora_sloberta(dataset)"
   ]
  }
 ],
 "metadata": {
  "kernelspec": {
   "display_name": "benchmark",
   "language": "python",
   "name": "python3"
  },
  "language_info": {
   "codemirror_mode": {
    "name": "ipython",
    "version": 3
   },
   "file_extension": ".py",
   "mimetype": "text/x-python",
   "name": "python",
   "nbconvert_exporter": "python",
   "pygments_lexer": "ipython3",
   "version": "3.10.14"
  }
 },
 "nbformat": 4,
 "nbformat_minor": 2
}
